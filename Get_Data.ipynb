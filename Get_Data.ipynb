{
 "cells": [
  {
   "cell_type": "code",
   "execution_count": 1,
   "metadata": {},
   "outputs": [],
   "source": [
    "import groupcat as GC\n",
    "import h5py\n",
    "import numpy as np"
   ]
  },
  {
   "cell_type": "code",
   "execution_count": 2,
   "metadata": {},
   "outputs": [],
   "source": [
    "#leer los <HDF5\n",
    "basePath = '/media/tng/7f5f2b26-e96f-4835-a545-6c32f7324880/TNG300-1/postprocessing'\n",
    "\n",
    "GroupFirstSub = GC.loadHalos(basePath,99,fields=['GroupFirstSub'])\n",
    "fields = ['SubhaloMassInRadType','SubhaloPos','SubhaloGrNr','SubhaloVel','SubhaloVelDisp','SubhaloVmax',]#datos que quiero\n",
    "subhalos= GC.loadSubhalos(basePath,99,fields=fields)"
   ]
  },
  {
   "cell_type": "markdown",
   "metadata": {},
   "source": [
    "# All Galaxies"
   ]
  },
  {
   "cell_type": "code",
   "execution_count": 3,
   "metadata": {
    "scrolled": true
   },
   "outputs": [
    {
     "name": "stdout",
     "output_type": "stream",
     "text": [
      "14485709\n"
     ]
    }
   ],
   "source": [
    "ID=np.arange(0,len(subhalos['SubhaloMassInRadType'][0:,4]))\n",
    "IDH=subhalos['SubhaloGrNr']\n",
    "mass=subhalos['SubhaloMassInRadType'][0:,4]\n",
    "GalPos=subhalos['SubhaloPos']\n",
    "x=GalPos[:,0]\n",
    "y=GalPos[:,1]\n",
    "z=GalPos[:,2]\n",
    "GalVel=subhalos['SubhaloVel']\n",
    "Vx=GalVel[:,0]\n",
    "Vy=GalVel[:,1]\n",
    "Vz=GalVel[:,2]\n",
    "VelDisp=subhalos['SubhaloVelDisp']\n",
    "VelMax=subhalos['SubhaloVmax']\n",
    "\n",
    "print(len(x))"
   ]
  },
  {
   "cell_type": "markdown",
   "metadata": {},
   "source": [
    "# All Galaxies with $m \\neq 0$ "
   ]
  },
  {
   "cell_type": "code",
   "execution_count": 4,
   "metadata": {},
   "outputs": [
    {
     "name": "stdout",
     "output_type": "stream",
     "text": [
      "1238655\n"
     ]
    }
   ],
   "source": [
    "jj= mass!=0\n",
    "\n",
    "ID=ID[jj]\n",
    "IDH=IDH[jj]\n",
    "mass=mass[jj]\n",
    "x=x[jj]\n",
    "y=y[jj]\n",
    "z=z[jj]\n",
    "\n",
    "Vx=Vx[jj]\n",
    "Vy=Vy[jj]\n",
    "Vz=Vz[jj]\n",
    "VelDisp=VelDisp[jj]\n",
    "VelMax=VelMax[jj]\n",
    "\n",
    "print(len(ID))"
   ]
  },
  {
   "cell_type": "markdown",
   "metadata": {},
   "source": [
    "Las columnas y unidades de cada archivo son:\n",
    "\n",
    "# IDH,IDG,Mass,x,y,z,Vx,Vy,Vz,VelDisp,VelMax\n",
    "\n",
    "IDH: Id de halo que contiene a la galaxia.\n",
    "\n",
    "ID:Id de la galaxia en la base de datos.\n",
    "\n",
    "Mass:Masa de la galaxia en $10^{10}𝑀_\\odot/ℎ$ (Sum of masses of all particles/cells (split by type) within twice the stellar half mass radius.).\n ",
    "\n",
    "x,y,z: Posición x,y,z de cada galaxia en $𝑐𝑘𝑝𝑐/ℎ$.\n",
    "\n",
    "Vx,Vy,Vz: Velocidades x,y,z de cada galaxia en $km/s$ (Peculiar velocity of the group, computed as the sum of the mass weighted velocities of all particles/cells in this group, of all types. No unit conversion is needed).\n",
    "\n",
    "VelDisp: One-dimensional velocity dispersion of all the member particles/cells (the 3D dispersion divided by $\\sqrt{3}$) en $km/s$.\n",
    "\n",
    "SubhaloVmax: Maximum value of the spherically-averaged rotation curve en $km/s$."
   ]
  },
  {
   "cell_type": "code",
   "execution_count": 5,
   "metadata": {},
   "outputs": [],
   "source": [
    "f = open ('Galaxies.dat','w')\n",
    "subh=list(zip(IDH,ID,mass,x,y,z,Vx,Vy,Vz,VelDisp,VelMax))\n",
    "for h,k in enumerate(subh):\n",
    "    line=''.join(str(x).ljust(20) for x in k)\n",
    "    f.writelines(line+ '\\n')\n",
    "f.close()"
   ]
  },
  {
   "cell_type": "markdown",
   "metadata": {},
   "source": [
    "# Central Galaxies"
   ]
  },
  {
   "cell_type": "code",
   "execution_count": 6,
   "metadata": {},
   "outputs": [
    {
     "name": "stdout",
     "output_type": "stream",
     "text": [
      "720991\n"
     ]
    }
   ],
   "source": [
    "central= np.in1d(ID,GroupFirstSub,assume_unique=True)\n",
    "\n",
    "\n",
    "IDC=ID[central]\n",
    "IDHC=IDH[central]\n",
    "massC=mass[central]\n",
    "xC=x[central]\n",
    "yC=y[central]\n",
    "zC=z[central]\n",
    "\n",
    "VxC=Vx[central]\n",
    "VyC=Vy[central]\n",
    "VzC=Vz[central]\n",
    "VelDispC=VelDisp[central]\n",
    "VelMaxC=VelMax[central]\n",
    "\n",
    "print(len(IDC))"
   ]
  },
  {
   "cell_type": "code",
   "execution_count": 7,
   "metadata": {},
   "outputs": [],
   "source": [
    "fC = open ('GalaxiesCentral.dat','w')\n",
    "subh=list(zip(IDHC,IDC,massC,xC,yC,zC,VxC,VyC,VzC,VelDispC,VelMaxC))\n",
    "for h,k in enumerate(subh):\n",
    "    line=''.join(str(x).ljust(20) for x in k)\n",
    "    fC.writelines(line+ '\\n')\n",
    "fC.close()"
   ]
  },
  {
   "cell_type": "markdown",
   "metadata": {},
   "source": [
    "# Satellite Galaxies"
   ]
  },
  {
   "cell_type": "code",
   "execution_count": 8,
   "metadata": {},
   "outputs": [
    {
     "name": "stdout",
     "output_type": "stream",
     "text": [
      "517664\n"
     ]
    }
   ],
   "source": [
    "Sat= np.in1d(ID,GroupFirstSub,assume_unique=False,invert=True)\n",
    "\n",
    "IDS=ID[Sat]\n",
    "IDHS=IDH[Sat]\n",
    "massS=mass[Sat]\n",
    "xS=x[Sat]\n",
    "yS=y[Sat]\n",
    "zS=z[Sat]\n",
    "\n",
    "VxS=Vx[Sat]\n",
    "VyS=Vy[Sat]\n",
    "VzS=Vz[Sat]\n",
    "VelDispS=VelDisp[Sat]\n",
    "VelMaxS=VelMax[Sat]\n",
    "\n",
    "\n",
    "\n",
    "print(len(IDS))"
   ]
  },
  {
   "cell_type": "code",
   "execution_count": 9,
   "metadata": {},
   "outputs": [],
   "source": [
    "fS = open ('GalaxiesSat.dat','w')\n",
    "subh=list(zip(IDHS,IDS,massS,xS,yS,zS,VxS,VyS,VzS,VelDispS,VelMaxS))\n",
    "for h,k in enumerate(subh):\n",
    "    line=''.join(str(x).ljust(20) for x in k)\n",
    "    fS.writelines(line+ '\\n')\n",
    "fS.close()"
   ]
  },
  {
   "cell_type": "code",
   "execution_count": null,
   "metadata": {},
   "outputs": [],
   "source": []
  }
 ],
 "metadata": {
  "kernelspec": {
   "display_name": "Python 3 (ipykernel)",
   "language": "python",
   "name": "python3"
  },
  "language_info": {
   "codemirror_mode": {
    "name": "ipython",
    "version": 3
   },
   "file_extension": ".py",
   "mimetype": "text/x-python",
   "name": "python",
   "nbconvert_exporter": "python",
   "pygments_lexer": "ipython3",
   "version": "3.9.7"
  }
 },
 "nbformat": 4,
 "nbformat_minor": 4
}
